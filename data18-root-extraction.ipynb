{
 "cells": [
  {
   "cell_type": "markdown",
   "id": "55d50107",
   "metadata": {},
   "source": [
    "# Extract data from a ROOT file"
   ]
  },
  {
   "cell_type": "markdown",
   "id": "c004dcea",
   "metadata": {},
   "source": [
    "This script reads jet data from a ROOT file and compresses it into a pickle file, which can then be used for scripts training AEs."
   ]
  },
  {
   "cell_type": "code",
   "execution_count": 1,
   "id": "250a74af",
   "metadata": {},
   "outputs": [],
   "source": [
    "import uproot\n",
    "import pandas as pd\n",
    "import numpy as np\n",
    "import os\n",
    "import time\n",
    "import matplotlib.pyplot as plt"
   ]
  },
  {
   "cell_type": "code",
   "execution_count": 2,
   "id": "8998cd19",
   "metadata": {},
   "outputs": [],
   "source": [
    "path = r'F:\\Master\\Data\\ATLAS'\n",
    "filename = r'data18_13TeV.root'\n",
    "file = uproot.open(os.sep.join([path, filename]))"
   ]
  },
  {
   "cell_type": "code",
   "execution_count": 3,
   "id": "d414fc86",
   "metadata": {},
   "outputs": [],
   "source": [
    "tree = file['CollectionTree']"
   ]
  },
  {
   "cell_type": "code",
   "execution_count": null,
   "id": "73aecc4d",
   "metadata": {},
   "outputs": [],
   "source": [
    "# find branches in the ROOT file based on a given prefix\n",
    "\n",
    "i = 0\n",
    "for key in tree.keys():\n",
    "    if 'AntiKt4LCTopoJetsAux' in key:\n",
    "        i += 1\n",
    "        print(key)\n",
    "print(i)"
   ]
  },
  {
   "cell_type": "code",
   "execution_count": 5,
   "id": "bf7da4fc",
   "metadata": {},
   "outputs": [
    {
     "name": "stdout",
     "output_type": "stream",
     "text": [
      "Number of branches to be processed: 39\n",
      "\n",
      "Working on branch: AntiKt4LCTopoJetsAuxDyn.TrackSumMass\n",
      "Working on branch: AntiKt4LCTopoJetsAuxDyn.TrackSumPt\n",
      "Working on branch: AntiKt4LCTopoJetsAuxDyn.ECPSFraction\n",
      "Working on branch: AntiKt4LCTopoJetsAuxDyn.ActiveArea\n",
      "Working on branch: AntiKt4LCTopoJetsAuxDyn.ActiveArea4vec_eta\n",
      "Working on branch: AntiKt4LCTopoJetsAuxDyn.ActiveArea4vec_m\n",
      "Working on branch: AntiKt4LCTopoJetsAuxDyn.ActiveArea4vec_phi\n",
      "Working on branch: AntiKt4LCTopoJetsAuxDyn.ActiveArea4vec_pt\n",
      "Working on branch: AntiKt4LCTopoJetsAuxDyn.AverageLArQF\n",
      "Working on branch: AntiKt4LCTopoJetsAuxDyn.BchCorrCell\n",
      "Working on branch: AntiKt4LCTopoJetsAuxDyn.CentroidR\n",
      "Working on branch: AntiKt4LCTopoJetsAuxDyn.DetectorEta\n",
      "Working on branch: AntiKt4LCTopoJetsAuxDyn.EMFrac\n",
      "Working on branch: AntiKt4LCTopoJetsAuxDyn.FracSamplingMax\n",
      "Working on branch: AntiKt4LCTopoJetsAuxDyn.HECFrac\n",
      "Working on branch: AntiKt4LCTopoJetsAuxDyn.HECQuality\n",
      "Working on branch: AntiKt4LCTopoJetsAuxDyn.JetEtaJESScaleMomentum_eta\n",
      "Working on branch: AntiKt4LCTopoJetsAuxDyn.JetEtaJESScaleMomentum_m\n",
      "Working on branch: AntiKt4LCTopoJetsAuxDyn.JetEtaJESScaleMomentum_phi\n",
      "Working on branch: AntiKt4LCTopoJetsAuxDyn.JetEtaJESScaleMomentum_pt\n",
      "Working on branch: AntiKt4LCTopoJetsAuxDyn.LArQuality\n",
      "Working on branch: AntiKt4LCTopoJetsAuxDyn.LeadingClusterCenterLambda\n",
      "Working on branch: AntiKt4LCTopoJetsAuxDyn.LeadingClusterPt\n",
      "Working on branch: AntiKt4LCTopoJetsAuxDyn.LeadingClusterSecondLambda\n",
      "Working on branch: AntiKt4LCTopoJetsAuxDyn.LeadingClusterSecondR\n",
      "Working on branch: AntiKt4LCTopoJetsAuxDyn.N90Constituents\n",
      "Working on branch: AntiKt4LCTopoJetsAuxDyn.NegativeE\n",
      "Working on branch: AntiKt4LCTopoJetsAuxDyn.OotFracClusters10\n",
      "Working on branch: AntiKt4LCTopoJetsAuxDyn.OotFracClusters5\n",
      "Working on branch: AntiKt4LCTopoJetsAuxDyn.Timing\n",
      "Working on branch: AntiKt4LCTopoJetsAuxDyn.Width\n",
      "Working on branch: AntiKt4LCTopoJetsAuxDyn.WidthPhi\n",
      "Working on branch: AntiKt4LCTopoJetsAuxDyn.Charge\n",
      "Working on branch: AntiKt4LCTopoJetsAuxDyn.DetectorPhi\n",
      "Working on branch: AntiKt4LCTopoJetsAuxDyn.GhostTrackPt\n",
      "Working on branch: AntiKt4LCTopoJetsAuxDyn.JVFCorr\n",
      "Working on branch: AntiKt4LCTopoJetsAuxDyn.Jvt\n",
      "Working on branch: AntiKt4LCTopoJetsAuxDyn.JvtRpt\n",
      "Working on branch: AntiKt4LCTopoJetsAuxDyn.LArBadHVEnergyFrac\n",
      "\n",
      "Total processing time: 14.254564200000004 seconds.\n"
     ]
    }
   ],
   "source": [
    "# select specific branches based on information in the given text file\n",
    "\n",
    "branch_filename = r'AntiKt4LC-only-vectors.txt'\n",
    "branch_file = open(branch_filename)\n",
    "branches = []\n",
    "for line in branch_file.readlines():\n",
    "    if not 'SizeParameter' in line and not 'EMScale' in line and not 'JetConstitScale' in line and not 'JetPileupScale' in line and not 'JetGhostArea' in line:\n",
    "        branches.append(line.strip('   vector<float>   *').strip(';\\n').replace('_', '.', 1))\n",
    "branch_file.close()\n",
    "branch_dict = {}\n",
    "\n",
    "df = pd.DataFrame()\n",
    "\n",
    "t = time.perf_counter()\n",
    "\n",
    "print('Number of branches to be processed:', len(branches))\n",
    "print()\n",
    "\n",
    "for branch in branches:\n",
    "        print('Working on branch:', branch)\n",
    "        branch_array = tree[branch].array(library='pd')\n",
    "        branch_dict[branch] = []\n",
    "        df[branch] = branch_array\n",
    "\n",
    "print()\n",
    "print('Total processing time:', time.perf_counter() - t, 'seconds.')"
   ]
  },
  {
   "cell_type": "code",
   "execution_count": 7,
   "id": "c424054a",
   "metadata": {},
   "outputs": [],
   "source": [
    "short_branchnames = [branch.replace('AntiKt4LCTopoJetsAuxDyn.', '', 1) for branch in branches]\n",
    "df.columns = short_branchnames"
   ]
  },
  {
   "cell_type": "code",
   "execution_count": 9,
   "id": "1f2ba78c",
   "metadata": {},
   "outputs": [],
   "source": [
    "df.to_pickle('F:\\Master\\Data\\pickles\\data18_13TeV_pandas.pkl')"
   ]
  },
  {
   "cell_type": "code",
   "execution_count": 10,
   "id": "6da4b65c",
   "metadata": {},
   "outputs": [
    {
     "data": {
      "text/plain": [
       "Index(['TrackSumMass', 'TrackSumPt', 'ECPSFraction', 'ActiveArea',\n",
       "       'ActiveArea4vec_eta', 'ActiveArea4vec_m', 'ActiveArea4vec_phi',\n",
       "       'ActiveArea4vec_pt', 'AverageLArQF', 'BchCorrCell', 'CentroidR',\n",
       "       'DetectorEta', 'EMFrac', 'FracSamplingMax', 'HECFrac', 'HECQuality',\n",
       "       'JetEtaJESScaleMomentum_eta', 'JetEtaJESScaleMomentum_m',\n",
       "       'JetEtaJESScaleMomentum_phi', 'JetEtaJESScaleMomentum_pt', 'LArQuality',\n",
       "       'LeadingClusterCenterLambda', 'LeadingClusterPt',\n",
       "       'LeadingClusterSecondLambda', 'LeadingClusterSecondR',\n",
       "       'N90Constituents', 'NegativeE', 'OotFracClusters10', 'OotFracClusters5',\n",
       "       'Timing', 'Width', 'WidthPhi', 'Charge', 'DetectorPhi', 'GhostTrackPt',\n",
       "       'JVFCorr', 'Jvt', 'JvtRpt', 'LArBadHVEnergyFrac'],\n",
       "      dtype='object')"
      ]
     },
     "execution_count": 10,
     "metadata": {},
     "output_type": "execute_result"
    }
   ],
   "source": [
    "df.columns"
   ]
  },
  {
   "cell_type": "code",
   "execution_count": 155,
   "id": "7df7e812",
   "metadata": {},
   "outputs": [],
   "source": [
    "main_idxs = np.array([idx[0] for idx in df.index])\n",
    "sub_idxs = np.array([idx[1] for idx in df.index])\n",
    "max_idx = max(main_idxs)"
   ]
  },
  {
   "cell_type": "code",
   "execution_count": 146,
   "id": "a299f36e",
   "metadata": {},
   "outputs": [
    {
     "data": {
      "text/plain": [
       "(0, 39)"
      ]
     },
     "execution_count": 146,
     "metadata": {},
     "output_type": "execute_result"
    }
   ],
   "source": [
    "df[main_idxs == 1255].shape"
   ]
  },
  {
   "cell_type": "code",
   "execution_count": 134,
   "id": "227f7868",
   "metadata": {},
   "outputs": [
    {
     "data": {
      "text/plain": [
       "array([], dtype=int32)"
      ]
     },
     "execution_count": 134,
     "metadata": {},
     "output_type": "execute_result"
    }
   ],
   "source": [
    "sub_idxs[main_idxs == 1255]"
   ]
  },
  {
   "cell_type": "code",
   "execution_count": 147,
   "id": "18e60808",
   "metadata": {},
   "outputs": [],
   "source": [
    "jets_per_main_idx = []\n",
    "for i in range(max_idx):\n",
    "    if not sub_idxs[main_idxs == i].shape[0] == 0:\n",
    "        jets_per_main_idx.append(max(sub_idxs[main_idxs == i]))"
   ]
  },
  {
   "cell_type": "code",
   "execution_count": 153,
   "id": "00f66454",
   "metadata": {
    "tags": []
   },
   "outputs": [
    {
     "data": {
      "image/png": "[encoded data removed]",
      "text/plain": [
       "<Figure size 432x288 with 1 Axes>"
      ]
     },
     "metadata": {
      "needs_background": "light"
     },
     "output_type": "display_data"
    }
   ],
   "source": [
    "_ = plt.hist(jets_per_main_idx, bins=max(jets_per_main_idx))\n",
    "plt.ylabel('# events?');\n",
    "plt.xlabel('# jets per event?');"
   ]
  }
 ],
 "metadata": {
  "kernelspec": {
   "display_name": "Python 3",
   "language": "python",
   "name": "python3"
  },
  "language_info": {
   "codemirror_mode": {
    "name": "ipython",
    "version": 3
   },
   "file_extension": ".py",
   "mimetype": "text/x-python",
   "name": "python",
   "nbconvert_exporter": "python",
   "pygments_lexer": "ipython3",
   "version": "3.8.8"
  }
 },
 "nbformat": 4,
 "nbformat_minor": 5
}
