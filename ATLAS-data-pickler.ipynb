{
 "cells": [
  {
   "cell_type": "markdown",
   "id": "107cd3ee",
   "metadata": {},
   "source": [
    "# ATLAS data pickler"
   ]
  },
  {
   "cell_type": "markdown",
   "id": "420345b8",
   "metadata": {},
   "source": [
    "This script reads data from ATLAS Open Data files and compresses it into .pkl files for use in AE training scripts."
   ]
  },
  {
   "cell_type": "code",
   "execution_count": 1,
   "id": "34ad66f0",
   "metadata": {},
   "outputs": [],
   "source": [
    "import os\n",
    "import uproot\n",
    "import numpy as np\n",
    "import pandas as pd\n",
    "import time\n",
    "import matplotlib.pyplot as plt\n",
    "import corner\n",
    "\n",
    "import torch\n",
    "import torch.nn as nn\n",
    "import torch.optim as optim\n",
    "import torch.utils.data\n",
    "#from torch.autograd import Variabl\n",
    "\n",
    "from torch.utils.data import TensorDataset\n",
    "from torch.utils.data import DataLoader\n",
    "\n",
    "from fastai import learner\n",
    "from fastai.data import core\n",
    "from fastai.metrics import mse\n",
    "from fastai.callback import schedule"
   ]
  },
  {
   "cell_type": "code",
   "execution_count": 77,
   "id": "12b974c0",
   "metadata": {
    "tags": []
   },
   "outputs": [
    {
     "name": "stdout",
     "output_type": "stream",
     "text": [
      "ROOT -> pandas conversion time: 0.9035380999994231 seconds\n"
     ]
    }
   ],
   "source": [
    "# Load the (small) MC simulation data files\n",
    "\n",
    "start = time.perf_counter()\n",
    "\n",
    "path = r''\n",
    "MC_filename = r'mc_364178.Wenu_PTV140_280_BFilter.3lep.root'\n",
    "\n",
    "with uproot.open(os.sep.join([path, MC_filename])) as file:\n",
    "    root_data = file['mini'].arrays(library='pd')\n",
    "root_lep_data = root_data[0]\n",
    "root_jet_data = root_data[1]\n",
    "\n",
    "lep_branches = ['lep_pt', 'lep_eta', 'lep_phi', 'lep_E']\n",
    "jet_branches = ['jet_pt', 'jet_eta', 'jet_phi', 'jet_E'] #, 'jet_m']\n",
    "lep_data = root_lep_data[lep_branches].copy()\n",
    "jet_data = root_jet_data[jet_branches].copy()\n",
    "\n",
    "data_filename = MC_filename\n",
    "dataset_name = 'MC data, ' + data_filename\n",
    "\n",
    "end = time.perf_counter()\n",
    "print('ROOT -> pandas conversion time:', end-start, 'seconds')"
   ]
  },
  {
   "cell_type": "code",
   "execution_count": 47,
   "id": "1ed9f47c",
   "metadata": {},
   "outputs": [
    {
     "name": "stdout",
     "output_type": "stream",
     "text": [
      "ROOT data file size: 5.118329 MB\n",
      "ROOT -> pandas conversion time: 3.9978885000000446 seconds\n"
     ]
    }
   ],
   "source": [
    "# Alternatively, load the (potentially huge) ATLAS real data files\n",
    "\n",
    "start = time.perf_counter()\n",
    "\n",
    "path = r''\n",
    "ATLAS_filename = r'data_D.3lep.root'\n",
    "\n",
    "try:\n",
    "    del root_data\n",
    "except NameError:\n",
    "    None\n",
    "\n",
    "file = os.sep.join([path, ATLAS_filename])\n",
    "print('ROOT data file size:', os.path.getsize(file) * 1e-6, 'MB')\n",
    "\n",
    "mini = uproot.open(file)['mini']\n",
    "\n",
    "ATLAS_data = mini.arrays(library='pd')\n",
    "\n",
    "end = time.perf_counter()\n",
    "print('ROOT -> pandas conversion time:', end-start, 'seconds')"
   ]
  },
  {
   "cell_type": "code",
   "execution_count": 48,
   "id": "c111b14e",
   "metadata": {},
   "outputs": [],
   "source": [
    "# This cell extracts the four-momentum variables from the loaded ATLAS ROOT data.\n",
    "\n",
    "root_lep_data = ATLAS_data[1]\n",
    "root_jet_data = ATLAS_data[2]\n",
    "\n",
    "lep_branches = ['lep_pt', 'lep_eta', 'lep_phi', 'lep_E']\n",
    "jet_branches = ['jet_pt', 'jet_eta', 'jet_phi', 'jet_E']\n",
    "lep_data = root_lep_data[lep_branches].copy()\n",
    "jet_data = root_jet_data[jet_branches].copy()\n",
    "\n",
    "data_filename = ATLAS_filename\n",
    "dataset_name = 'ATLAS data, ' + data_filename"
   ]
  },
  {
   "cell_type": "code",
   "execution_count": 78,
   "id": "b120f095",
   "metadata": {},
   "outputs": [
    {
     "name": "stdout",
     "output_type": "stream",
     "text": [
      "Number of lepton four-momenta: 8202\n",
      "Number of jet four-momenta: 6187\n"
     ]
    },
    {
     "data": {
      "image/png": "[encoded data removed]",
      "text/plain": [
       "<Figure size 1152x288 with 4 Axes>"
      ]
     },
     "metadata": {
      "needs_background": "light"
     },
     "output_type": "display_data"
    },
    {
     "data": {
      "image/png": "[encoded data removed]",
      "text/plain": [
       "<Figure size 1152x288 with 4 Axes>"
      ]
     },
     "metadata": {
      "needs_background": "light"
     },
     "output_type": "display_data"
    }
   ],
   "source": [
    "# Visualize the data\n",
    "\n",
    "n_bins = 200\n",
    "\n",
    "fig = plt.figure(figsize=(4*len(lep_branches), 4))\n",
    "for i, branch in enumerate(lep_branches):\n",
    "    plt.subplot(1, len(lep_branches), i+1)\n",
    "    plt.hist(lep_data[branch], bins=n_bins)\n",
    "    ax = plt.gca()\n",
    "    ax.set_xlabel(branch)\n",
    "    #plt.yscale('log')\n",
    "\n",
    "fig = plt.figure(figsize=(4*len(jet_branches), 4))\n",
    "for i, branch in enumerate(jet_branches):\n",
    "    plt.subplot(1, len(jet_branches), i+1)\n",
    "    plt.hist(jet_data[branch], bins=n_bins)\n",
    "    ax = plt.gca()\n",
    "    ax.set_xlabel(branch)\n",
    "    #plt.yscale('log')\n",
    "    if i in [0, 3]:\n",
    "        plt.xscale('log')\n",
    "\n",
    "n_jets = len(jet_data)\n",
    "n_lep = len(lep_data)\n",
    "\n",
    "print('Number of lepton four-momenta:', len(lep_data))\n",
    "print('Number of jet four-momenta:', len(jet_data))"
   ]
  },
  {
   "cell_type": "code",
   "execution_count": 79,
   "id": "7da806b6",
   "metadata": {},
   "outputs": [],
   "source": [
    "data_path = r'./pickles'\n",
    "#data_filename = r'mc_110903.ZPrime1000.root'\n",
    "jet_filename = data_filename.strip('.root') + r'-jet.pkl'\n",
    "lep_filename = data_filename.strip('.root') + r'-lep.pkl'\n",
    "\n",
    "jet_data.to_pickle(os.sep.join([data_path, jet_filename]))\n",
    "lep_data.to_pickle(os.sep.join([data_path, lep_filename]))"
   ]
  },
  {
   "cell_type": "code",
   "execution_count": 80,
   "id": "e60533ac",
   "metadata": {},
   "outputs": [],
   "source": [
    "# Create an information file for the current .pkl\n",
    "\n",
    "pickle_info_filename = 'pickles.info'\n",
    "pickle_info = {'dataset_name' : dataset_name,\n",
    "                'jet_filename' : jet_filename,\n",
    "               'n_jets' : n_jets,\n",
    "               'lep_filename' : lep_filename,\n",
    "               'n_lep' : n_lep}\n",
    "file = open(os.sep.join([data_path, pickle_info_filename]), 'a')\n",
    "file.write('\\n%')\n",
    "for key in pickle_info.keys():\n",
    "    file.write('\\n')\n",
    "    file.write(key)\n",
    "    file.write('\\n')\n",
    "    file.write(str(pickle_info[key]))\n",
    "file.close()"
   ]
  },
  {
   "cell_type": "markdown",
   "id": "b8f0084e",
   "metadata": {},
   "source": [
    "# Show pickle file contents"
   ]
  },
  {
   "cell_type": "code",
   "execution_count": 4,
   "id": "9beee809",
   "metadata": {},
   "outputs": [
    {
     "name": "stdout",
     "output_type": "stream",
     "text": [
      "Read time: 1.427852999999999 seconds.\n"
     ]
    }
   ],
   "source": [
    "t = time.perf_counter()\n",
    "pickled_data = pd.read_pickle(r'F:\\Master\\Data\\pickles\\data_D.2lep-jet.pkl')\n",
    "print('Read time:', time.perf_counter() - t, 'seconds.')"
   ]
  },
  {
   "cell_type": "code",
   "execution_count": 5,
   "id": "7524bf85",
   "metadata": {},
   "outputs": [
    {
     "data": {
      "text/html": [
       "<div>\n",
       "<style scoped>\n",
       "    .dataframe tbody tr th:only-of-type {\n",
       "        vertical-align: middle;\n",
       "    }\n",
       "\n",
       "    .dataframe tbody tr th {\n",
       "        vertical-align: top;\n",
       "    }\n",
       "\n",
       "    .dataframe thead th {\n",
       "        text-align: right;\n",
       "    }\n",
       "</style>\n",
       "<table border=\"1\" class=\"dataframe\">\n",
       "  <thead>\n",
       "    <tr style=\"text-align: right;\">\n",
       "      <th></th>\n",
       "      <th></th>\n",
       "      <th>jet_pt</th>\n",
       "      <th>jet_eta</th>\n",
       "      <th>jet_phi</th>\n",
       "      <th>jet_E</th>\n",
       "      <th>jet_jvt</th>\n",
       "      <th>jet_MV2c10</th>\n",
       "    </tr>\n",
       "    <tr>\n",
       "      <th>entry</th>\n",
       "      <th>subentry</th>\n",
       "      <th></th>\n",
       "      <th></th>\n",
       "      <th></th>\n",
       "      <th></th>\n",
       "      <th></th>\n",
       "      <th></th>\n",
       "    </tr>\n",
       "  </thead>\n",
       "  <tbody>\n",
       "    <tr>\n",
       "      <th rowspan=\"2\" valign=\"top\">4</th>\n",
       "      <th>0</th>\n",
       "      <td>63805.328125</td>\n",
       "      <td>1.203108</td>\n",
       "      <td>3.099957</td>\n",
       "      <td>116042.437500</td>\n",
       "      <td>0.991898</td>\n",
       "      <td>-0.539400</td>\n",
       "    </tr>\n",
       "    <tr>\n",
       "      <th>1</th>\n",
       "      <td>21522.468750</td>\n",
       "      <td>2.361825</td>\n",
       "      <td>-1.167996</td>\n",
       "      <td>115300.562500</td>\n",
       "      <td>0.981763</td>\n",
       "      <td>-0.912779</td>\n",
       "    </tr>\n",
       "    <tr>\n",
       "      <th rowspan=\"3\" valign=\"top\">5</th>\n",
       "      <th>0</th>\n",
       "      <td>40107.675781</td>\n",
       "      <td>-1.411193</td>\n",
       "      <td>-1.858008</td>\n",
       "      <td>87624.882812</td>\n",
       "      <td>0.998283</td>\n",
       "      <td>-0.785531</td>\n",
       "    </tr>\n",
       "    <tr>\n",
       "      <th>1</th>\n",
       "      <td>33406.589844</td>\n",
       "      <td>-0.709983</td>\n",
       "      <td>0.043586</td>\n",
       "      <td>42859.734375</td>\n",
       "      <td>0.992187</td>\n",
       "      <td>-0.879459</td>\n",
       "    </tr>\n",
       "    <tr>\n",
       "      <th>2</th>\n",
       "      <td>23021.287109</td>\n",
       "      <td>-1.416613</td>\n",
       "      <td>-0.340813</td>\n",
       "      <td>50585.496094</td>\n",
       "      <td>0.880674</td>\n",
       "      <td>-0.813661</td>\n",
       "    </tr>\n",
       "    <tr>\n",
       "      <th>...</th>\n",
       "      <th>...</th>\n",
       "      <td>...</td>\n",
       "      <td>...</td>\n",
       "      <td>...</td>\n",
       "      <td>...</td>\n",
       "      <td>...</td>\n",
       "      <td>...</td>\n",
       "    </tr>\n",
       "    <tr>\n",
       "      <th>5490382</th>\n",
       "      <th>1</th>\n",
       "      <td>20144.808594</td>\n",
       "      <td>0.478414</td>\n",
       "      <td>1.471330</td>\n",
       "      <td>22780.019531</td>\n",
       "      <td>0.987831</td>\n",
       "      <td>-0.807435</td>\n",
       "    </tr>\n",
       "    <tr>\n",
       "      <th>5490386</th>\n",
       "      <th>0</th>\n",
       "      <td>86004.914062</td>\n",
       "      <td>-1.423896</td>\n",
       "      <td>-2.513129</td>\n",
       "      <td>189496.953125</td>\n",
       "      <td>0.980716</td>\n",
       "      <td>-0.829829</td>\n",
       "    </tr>\n",
       "    <tr>\n",
       "      <th>5490389</th>\n",
       "      <th>0</th>\n",
       "      <td>44000.156250</td>\n",
       "      <td>1.202855</td>\n",
       "      <td>-1.393303</td>\n",
       "      <td>80058.570312</td>\n",
       "      <td>0.994756</td>\n",
       "      <td>-0.900436</td>\n",
       "    </tr>\n",
       "    <tr>\n",
       "      <th>5490390</th>\n",
       "      <th>0</th>\n",
       "      <td>54359.460938</td>\n",
       "      <td>-0.834115</td>\n",
       "      <td>-2.539023</td>\n",
       "      <td>74981.937500</td>\n",
       "      <td>0.994851</td>\n",
       "      <td>0.999946</td>\n",
       "    </tr>\n",
       "    <tr>\n",
       "      <th>5490394</th>\n",
       "      <th>0</th>\n",
       "      <td>32128.435547</td>\n",
       "      <td>2.480807</td>\n",
       "      <td>-2.431600</td>\n",
       "      <td>193448.875000</td>\n",
       "      <td>0.552322</td>\n",
       "      <td>-0.488721</td>\n",
       "    </tr>\n",
       "  </tbody>\n",
       "</table>\n",
       "<p>3898273 rows × 6 columns</p>\n",
       "</div>"
      ],
      "text/plain": [
       "                        jet_pt   jet_eta   jet_phi          jet_E   jet_jvt  \\\n",
       "entry   subentry                                                              \n",
       "4       0         63805.328125  1.203108  3.099957  116042.437500  0.991898   \n",
       "        1         21522.468750  2.361825 -1.167996  115300.562500  0.981763   \n",
       "5       0         40107.675781 -1.411193 -1.858008   87624.882812  0.998283   \n",
       "        1         33406.589844 -0.709983  0.043586   42859.734375  0.992187   \n",
       "        2         23021.287109 -1.416613 -0.340813   50585.496094  0.880674   \n",
       "...                        ...       ...       ...            ...       ...   \n",
       "5490382 1         20144.808594  0.478414  1.471330   22780.019531  0.987831   \n",
       "5490386 0         86004.914062 -1.423896 -2.513129  189496.953125  0.980716   \n",
       "5490389 0         44000.156250  1.202855 -1.393303   80058.570312  0.994756   \n",
       "5490390 0         54359.460938 -0.834115 -2.539023   74981.937500  0.994851   \n",
       "5490394 0         32128.435547  2.480807 -2.431600  193448.875000  0.552322   \n",
       "\n",
       "                  jet_MV2c10  \n",
       "entry   subentry              \n",
       "4       0          -0.539400  \n",
       "        1          -0.912779  \n",
       "5       0          -0.785531  \n",
       "        1          -0.879459  \n",
       "        2          -0.813661  \n",
       "...                      ...  \n",
       "5490382 1          -0.807435  \n",
       "5490386 0          -0.829829  \n",
       "5490389 0          -0.900436  \n",
       "5490390 0           0.999946  \n",
       "5490394 0          -0.488721  \n",
       "\n",
       "[3898273 rows x 6 columns]"
      ]
     },
     "execution_count": 5,
     "metadata": {},
     "output_type": "execute_result"
    }
   ],
   "source": [
    "pickled_data"
   ]
  }
 ],
 "metadata": {
  "kernelspec": {
   "display_name": "Python 3",
   "language": "python",
   "name": "python3"
  },
  "language_info": {
   "codemirror_mode": {
    "name": "ipython",
    "version": 3
   },
   "file_extension": ".py",
   "mimetype": "text/x-python",
   "name": "python",
   "nbconvert_exporter": "python",
   "pygments_lexer": "ipython3",
   "version": "3.8.8"
  }
 },
 "nbformat": 4,
 "nbformat_minor": 5
}
